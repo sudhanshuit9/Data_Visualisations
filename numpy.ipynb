{
 "cells": [
  {
   "cell_type": "code",
   "execution_count": 71,
   "id": "e369d774-ca7d-4d4b-83f9-0fe05eb650a0",
   "metadata": {},
   "outputs": [],
   "source": [
    "import numpy as np \n",
    "import random\n",
    "import pandas as pd"
   ]
  },
  {
   "cell_type": "code",
   "execution_count": 35,
   "id": "aa61b0a3-58bc-4714-bd8a-ad0b9e493fa6",
   "metadata": {},
   "outputs": [],
   "source": [
    "matrix = np.array([[10,15,20], [25,30,35], [40,45,50 ]])"
   ]
  },
  {
   "cell_type": "code",
   "execution_count": 36,
   "id": "ef2d3399-6959-4871-b27c-5fd2d53be55c",
   "metadata": {},
   "outputs": [
    {
     "data": {
      "text/plain": [
       "array([[10, 15, 20],\n",
       "       [25, 30, 35],\n",
       "       [40, 45, 50]])"
      ]
     },
     "execution_count": 36,
     "metadata": {},
     "output_type": "execute_result"
    }
   ],
   "source": [
    "matrix\n"
   ]
  },
  {
   "cell_type": "code",
   "execution_count": 37,
   "id": "d547e771-0b7c-49f0-bd6b-a65103e5ee93",
   "metadata": {},
   "outputs": [
    {
     "data": {
      "text/plain": [
       "9"
      ]
     },
     "execution_count": 37,
     "metadata": {},
     "output_type": "execute_result"
    }
   ],
   "source": [
    "matrix.size"
   ]
  },
  {
   "cell_type": "code",
   "execution_count": 38,
   "id": "21694646-f9a1-496c-aa59-21f1c54934ca",
   "metadata": {},
   "outputs": [
    {
     "data": {
      "text/plain": [
       "dtype('int32')"
      ]
     },
     "execution_count": 38,
     "metadata": {},
     "output_type": "execute_result"
    }
   ],
   "source": [
    "matrix.dtype\n"
   ]
  },
  {
   "cell_type": "code",
   "execution_count": 39,
   "id": "77088113-c84a-4832-8009-629ee34c3470",
   "metadata": {},
   "outputs": [],
   "source": [
    "arr = np.random.randint(1,101,10).reshape(2,5)"
   ]
  },
  {
   "cell_type": "code",
   "execution_count": 40,
   "id": "20193900-981d-48e6-8124-4bf99b079c1c",
   "metadata": {},
   "outputs": [
    {
     "data": {
      "text/plain": [
       "array([[70,  1, 58, 92, 99],\n",
       "       [37, 80, 26, 40,  6]])"
      ]
     },
     "execution_count": 40,
     "metadata": {},
     "output_type": "execute_result"
    }
   ],
   "source": [
    "arr"
   ]
  },
  {
   "cell_type": "code",
   "execution_count": 41,
   "id": "d2af2827-fd94-49d0-a5b1-4404f5e1f89c",
   "metadata": {},
   "outputs": [
    {
     "data": {
      "text/plain": [
       "15"
      ]
     },
     "execution_count": 41,
     "metadata": {},
     "output_type": "execute_result"
    }
   ],
   "source": [
    "matrix[0][1]"
   ]
  },
  {
   "cell_type": "code",
   "execution_count": 42,
   "id": "90a3ad1e-2b16-4ff1-9d67-7d5b92279e8e",
   "metadata": {},
   "outputs": [
    {
     "data": {
      "text/plain": [
       "30"
      ]
     },
     "execution_count": 42,
     "metadata": {},
     "output_type": "execute_result"
    }
   ],
   "source": [
    "matrix[1][1]"
   ]
  },
  {
   "cell_type": "code",
   "execution_count": 43,
   "id": "7ec7a122-6041-4636-b8fe-d2be69b13421",
   "metadata": {},
   "outputs": [
    {
     "data": {
      "text/plain": [
       "array([[10, 15, 20],\n",
       "       [25, 30, 35],\n",
       "       [40, 45, 50]])"
      ]
     },
     "execution_count": 43,
     "metadata": {},
     "output_type": "execute_result"
    }
   ],
   "source": [
    "matrix"
   ]
  },
  {
   "cell_type": "code",
   "execution_count": 44,
   "id": "b6e0d0d5-e5da-4406-9a10-4a8576db55d1",
   "metadata": {},
   "outputs": [
    {
     "data": {
      "text/plain": [
       "15"
      ]
     },
     "execution_count": 44,
     "metadata": {},
     "output_type": "execute_result"
    }
   ],
   "source": [
    "matrix[0][1]\n"
   ]
  },
  {
   "cell_type": "code",
   "execution_count": 45,
   "id": "9ee422a3-fbae-4582-8ce7-c781469e6923",
   "metadata": {},
   "outputs": [
    {
     "data": {
      "text/plain": [
       "50"
      ]
     },
     "execution_count": 45,
     "metadata": {},
     "output_type": "execute_result"
    }
   ],
   "source": [
    "matrix[2][2]"
   ]
  },
  {
   "cell_type": "code",
   "execution_count": 46,
   "id": "ea3251dc-682a-48d8-9043-6ea915f87604",
   "metadata": {},
   "outputs": [],
   "source": [
    "arr = np.array([10,20,30,40,50])"
   ]
  },
  {
   "cell_type": "code",
   "execution_count": 47,
   "id": "388ffa4b-2a34-42b9-b1b1-f0d49e195774",
   "metadata": {},
   "outputs": [],
   "source": [
    "copy_arr = arr[1:4].copy()"
   ]
  },
  {
   "cell_type": "code",
   "execution_count": 48,
   "id": "c8755205-f450-47d7-aba7-32b5013a9a06",
   "metadata": {},
   "outputs": [
    {
     "data": {
      "text/plain": [
       "array([20, 30, 40])"
      ]
     },
     "execution_count": 48,
     "metadata": {},
     "output_type": "execute_result"
    }
   ],
   "source": [
    "copy_arr"
   ]
  },
  {
   "cell_type": "code",
   "execution_count": 49,
   "id": "8884babc-4a75-467f-9e14-6c82500c3bf5",
   "metadata": {},
   "outputs": [],
   "source": [
    "copy_arr[0] = 999"
   ]
  },
  {
   "cell_type": "code",
   "execution_count": 50,
   "id": "a1cdef97-67dc-40c1-9e89-24c5873abaf0",
   "metadata": {},
   "outputs": [
    {
     "data": {
      "text/plain": [
       "array([999,  30,  40])"
      ]
     },
     "execution_count": 50,
     "metadata": {},
     "output_type": "execute_result"
    }
   ],
   "source": [
    "copy_arr"
   ]
  },
  {
   "cell_type": "code",
   "execution_count": 51,
   "id": "ad70e922-b111-4cd3-9783-2284e5d59606",
   "metadata": {},
   "outputs": [
    {
     "data": {
      "text/plain": [
       "array([10, 20, 30, 40, 50])"
      ]
     },
     "execution_count": 51,
     "metadata": {},
     "output_type": "execute_result"
    }
   ],
   "source": [
    "arr"
   ]
  },
  {
   "cell_type": "code",
   "execution_count": 52,
   "id": "d2db5e7c-c258-443e-a489-d2864240c526",
   "metadata": {},
   "outputs": [
    {
     "data": {
      "text/plain": [
       "array([999,  30,  40])"
      ]
     },
     "execution_count": 52,
     "metadata": {},
     "output_type": "execute_result"
    }
   ],
   "source": [
    "copy_arr "
   ]
  },
  {
   "cell_type": "code",
   "execution_count": 53,
   "id": "75abdd17-42c9-43af-96a2-01c1b8e04b6a",
   "metadata": {},
   "outputs": [],
   "source": [
    "#create an array containing elements from 20 to 40\n",
    "\n",
    "arr = np.arange(20, 41)\n"
   ]
  },
  {
   "cell_type": "code",
   "execution_count": 54,
   "id": "b2fa53d5-44d0-4938-89eb-bfde032719f3",
   "metadata": {},
   "outputs": [
    {
     "data": {
      "text/plain": [
       "array([20, 21, 22, 23, 24, 25, 26, 27, 28, 29, 30, 31, 32, 33, 34, 35, 36,\n",
       "       37, 38, 39, 40])"
      ]
     },
     "execution_count": 54,
     "metadata": {},
     "output_type": "execute_result"
    }
   ],
   "source": [
    "arr"
   ]
  },
  {
   "cell_type": "code",
   "execution_count": 55,
   "id": "4026a4fe-fc37-4264-a085-58e04257e1b4",
   "metadata": {},
   "outputs": [],
   "source": [
    "# create an array which contain 10 elements and every ekements is 5\n",
    "\n",
    "arr = np.ones(10)*5"
   ]
  },
  {
   "cell_type": "code",
   "execution_count": 56,
   "id": "9979e657-2611-45bb-919c-9e88723e2738",
   "metadata": {},
   "outputs": [
    {
     "data": {
      "text/plain": [
       "array([5., 5., 5., 5., 5., 5., 5., 5., 5., 5.])"
      ]
     },
     "execution_count": 56,
     "metadata": {},
     "output_type": "execute_result"
    }
   ],
   "source": [
    "arr"
   ]
  },
  {
   "cell_type": "code",
   "execution_count": 57,
   "id": "359b221e-c923-4852-a4af-f1aa4b378afd",
   "metadata": {},
   "outputs": [],
   "source": [
    "arr = np.random.randint(1,50,24)"
   ]
  },
  {
   "cell_type": "code",
   "execution_count": 58,
   "id": "20b3cb33-b986-42f2-9da9-32bd95b2bc8e",
   "metadata": {},
   "outputs": [
    {
     "data": {
      "text/plain": [
       "array([30, 26,  7, 26,  2,  4,  1,  5, 11, 44,  6, 10, 28, 49, 32, 47,  9,\n",
       "       46, 40, 14, 22, 42, 29,  2])"
      ]
     },
     "execution_count": 58,
     "metadata": {},
     "output_type": "execute_result"
    }
   ],
   "source": [
    "arr"
   ]
  },
  {
   "cell_type": "code",
   "execution_count": 59,
   "id": "1e6207b5-c216-41d8-af77-bf79cacf2de0",
   "metadata": {},
   "outputs": [],
   "source": [
    "# change 1 d arry into 3d array \n",
    "arr =np.random.randint(1,50,24).reshape(3,4,2)"
   ]
  },
  {
   "cell_type": "code",
   "execution_count": 60,
   "id": "0b0b8dff-0b26-4fd9-8dc7-afbdc50b5f19",
   "metadata": {},
   "outputs": [
    {
     "data": {
      "text/plain": [
       "array([[[ 5, 44],\n",
       "        [ 4, 20],\n",
       "        [ 6, 38],\n",
       "        [28, 30]],\n",
       "\n",
       "       [[10,  1],\n",
       "        [28,  8],\n",
       "        [13,  6],\n",
       "        [33, 35]],\n",
       "\n",
       "       [[ 3, 11],\n",
       "        [41,  7],\n",
       "        [17, 34],\n",
       "        [22, 35]]])"
      ]
     },
     "execution_count": 60,
     "metadata": {},
     "output_type": "execute_result"
    }
   ],
   "source": [
    "arr"
   ]
  },
  {
   "cell_type": "code",
   "execution_count": 61,
   "id": "59eec5ec-ddc6-4074-87ba-cb17e66449d7",
   "metadata": {},
   "outputs": [],
   "source": [
    "#create 2d array which contain 25 number 0 to 1\n",
    "arr = np.random.rand(5,5)\n"
   ]
  },
  {
   "cell_type": "code",
   "execution_count": 62,
   "id": "a72bad76-9de1-4a73-b7ee-f319bdbfffdc",
   "metadata": {},
   "outputs": [
    {
     "data": {
      "text/plain": [
       "array([[0.60775577, 0.00999396, 0.15283242, 0.74664893, 0.49244912],\n",
       "       [0.40278748, 0.22875071, 0.62279544, 0.28943136, 0.48715577],\n",
       "       [0.87832355, 0.07555343, 0.56934602, 0.00194139, 0.48588458],\n",
       "       [0.34039919, 0.84775426, 0.35544188, 0.58185544, 0.41452424],\n",
       "       [0.88360716, 0.20685037, 0.74589434, 0.77121038, 0.16990114]])"
      ]
     },
     "execution_count": 62,
     "metadata": {},
     "output_type": "execute_result"
    }
   ],
   "source": [
    "arr"
   ]
  },
  {
   "cell_type": "code",
   "execution_count": 67,
   "id": "9fed14e8-a169-4078-9b9b-64c2fefb9226",
   "metadata": {},
   "outputs": [
    {
     "data": {
      "text/plain": [
       "array([ True, False, False, False, False,  True,  True, False, False,\n",
       "        True, False,  True,  True, False, False, False,  True,  True,\n",
       "        True, False])"
      ]
     },
     "execution_count": 67,
     "metadata": {},
     "output_type": "execute_result"
    }
   ],
   "source": [
    "arr = np.random.seed(123)\n",
    "arr = np.random.randint(1,50,20)"
   ]
  },
  {
   "cell_type": "code",
   "execution_count": 68,
   "id": "f92fbefe-257c-4fa1-892a-0601f729dd99",
   "metadata": {},
   "outputs": [
    {
     "data": {
      "text/plain": [
       "array([46, 18, 20, 34, 48, 10, 48, 26, 20])"
      ]
     },
     "execution_count": 68,
     "metadata": {},
     "output_type": "execute_result"
    }
   ],
   "source": [
    "arr[arr % 2 == 0]"
   ]
  },
  {
   "cell_type": "code",
   "execution_count": 70,
   "id": "beb23991-79f6-4862-8baf-a81b7f773163",
   "metadata": {},
   "outputs": [
    {
     "data": {
      "text/plain": [
       "array([1, 2, 3, 4, 5, 6])"
      ]
     },
     "execution_count": 70,
     "metadata": {},
     "output_type": "execute_result"
    }
   ],
   "source": [
    "arr1 = np.array ([1,2,3])\n",
    "arr2 = np.array ([4,5,6])\n",
    "np.hstack((arr1,arr2))"
   ]
  },
  {
   "cell_type": "code",
   "execution_count": null,
   "id": "c79f4385-dd98-42cd-aec9-156f701062dc",
   "metadata": {},
   "outputs": [],
   "source": []
  }
 ],
 "metadata": {
  "kernelspec": {
   "display_name": "Python 3 (ipykernel)",
   "language": "python",
   "name": "python3"
  },
  "language_info": {
   "codemirror_mode": {
    "name": "ipython",
    "version": 3
   },
   "file_extension": ".py",
   "mimetype": "text/x-python",
   "name": "python",
   "nbconvert_exporter": "python",
   "pygments_lexer": "ipython3",
   "version": "3.10.4"
  }
 },
 "nbformat": 4,
 "nbformat_minor": 5
}
